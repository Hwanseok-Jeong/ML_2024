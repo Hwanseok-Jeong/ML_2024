{
  "cells": [
    {
      "cell_type": "markdown",
      "metadata": {
        "id": "HCWBzGicdk-1"
      },
      "source": [
        "# PC-Lab 9: Support Vector Machines"
      ]
    },
    {
      "cell_type": "markdown",
      "metadata": {
        "id": "_arfUzyxdk-4"
      },
      "source": [
        "## Introduction"
      ]
    },
    {
      "cell_type": "markdown",
      "metadata": {
        "id": "oDzSGbjrdk-5"
      },
      "source": [
        "Support vector machines (SVMs) are (still) among the most popular techniques used for classification and regression. SVM is like a gifted artist, seeing the world not just for what it is, but for the potential spaces in between. It asks a fundamental question: \"Given these points, where should the line (or plane, or hyperplane) be drawn to best separate them?\" In mathematical terms, it tries to find a hyperplane that maximizes the margin between two classes.\n",
        "\n",
        "But the true genius of SVM reveals itself in non-linear situations.\n",
        "As these methods only use instances as products of the feature vectors, they can be kernelized by means of the kernel trick:\n",
        "\n",
        "\\begin{align}\n",
        "k(\\mathbf{x_i},\\mathbf{x_j}) &= \\phi(\\mathbf{x_i})^T\\phi(\\mathbf{x_j}).\n",
        "\\end{align}\n",
        "\n",
        "SVMs are what people call a _maximum margin classifier_, as it can be shown that the mathematical framework of an SVM maximizes the distance between the decision boundary and the instances closest to the boundary. In addition, they are considered sparse methods because after the training phase a part of the data set can usually be discarded, retaining only the _support vectors_."
      ]
    },
    {
      "cell_type": "markdown",
      "metadata": {
        "id": "GYOOxsG6dk-6"
      },
      "source": [
        "<img src=\"https://upload.wikimedia.org/wikipedia/commons/thumb/7/72/SVM_margin.png/1920px-SVM_margin.png\" width=500>"
      ]
    },
    {
      "cell_type": "markdown",
      "metadata": {
        "id": "cHyIr5gxdk-6"
      },
      "source": [
        "Technically, the SVM tries to maximize the margin $M$, while retaining an optimal classification error. As is shown in theory lecture, the first is equal to $||\\mathbf{w}||^{-1}$ and so this is equivalent to minimizing:\n",
        "\\begin{equation}\n",
        "    \\text{arg min} \\frac{1}{2} ||\\mathbf{w} + w_0||^2,\n",
        "\\end{equation}\n",
        "\n",
        "subject to:\n",
        "\\begin{equation}\n",
        "    y_i(\\mathbf{x}^T(\\mathbf{w} + w_0)) \\geq 1, \\qquad \\forall i =  1, ..., n.\n",
        "\\end{equation}"
      ]
    },
    {
      "cell_type": "markdown",
      "metadata": {
        "id": "w9-k0VWxdk-6"
      },
      "source": [
        "However, this implementation only works for data that is separable. By allowing misclassifications one can turn the margin classifier into the well-known SVM by introducing slack variables $\\xi_i$:\n",
        "\\begin{equation}\n",
        "    \\text{arg min}_{\\mathbf{w} + w_0} \\{ \\frac{1}{2} ||\\mathbf{w} + w_0||^2 + C \\sum_{i=1}^n \\xi_i \\},\n",
        "\\end{equation}\n",
        "\n",
        "subject to:\n",
        "\\begin{equation}\n",
        "    y_i(\\mathbf{x}^T(\\mathbf{w}+w_0)) \\geq 1-\\xi_i, \\qquad \\forall i =  1, ..., n.\n",
        "\\end{equation}"
      ]
    },
    {
      "cell_type": "markdown",
      "metadata": {
        "id": "RqzVjWdSdk-6"
      },
      "source": [
        "The above formulation can be translated to an equivalent _dual representation_, which leads to the following maximization problem:\n",
        "\\begin{equation}\n",
        "    \\text{arg max}_{a_i} \\{ \\sum_{i=1}^n a_i - \\frac{1}{2} \\sum_{i=1}^n \\sum_{k=1}^n a_i a_k y_i y_k \\mathbf{x_i}^{T}\\mathbf{x_k} \\},\n",
        "\\end{equation}\n",
        "\n",
        "subject to:\n",
        "\\begin{align}\n",
        "    0 \\leq a_i &\\leq C, \\\\\n",
        "    \\sum_{i=1}^n a_iy_i &= 0, \\qquad \\forall i = 1, ..., n,\n",
        "\\end{align}\n",
        "\n",
        "Due to the dot products in the above formulation, we can apply the **kernel trick**, which then gives us the final maximization problem:\n",
        "\\begin{equation}\n",
        "    \\text{arg max}_{a_i} \\{ \\sum_{i=1}^n a_i - \\frac{1}{2} \\sum_{i=1}^n \\sum_{k=1}^n a_i a_k y_i y_k k(\\mathbf{x_i},\\mathbf{x_k}) \\},\n",
        "\\end{equation}\n",
        "\n",
        "subject to:\n",
        "\\begin{align}\n",
        "    0 \\leq a_i &\\leq C, \\\\\n",
        "    \\sum_{i=1}^n a_iy_i &= 0, \\qquad \\forall i = 1, ..., n,\n",
        "\\end{align}\n",
        "\n",
        "where $k$ is defined as the kernel function."
      ]
    },
    {
      "cell_type": "markdown",
      "metadata": {
        "id": "MvgxVNRQdk-7"
      },
      "source": [
        "In this PC-lab we will use SVMs for both classification and regression purposes. In the first part we will predict the label of two bacterial species  based on flow cytometry data. Next, we will try to predict the molecular function of a set of proteins by using only its amino acid sequence by using a customized spectral kernel. Finally, support vector regression (SVR) will be used to have a second attempt at the prediction of the strength of concrete."
      ]
    },
    {
      "cell_type": "markdown",
      "metadata": {
        "id": "JRtfq6Qvdk-7"
      },
      "source": [
        "## Grid search vs. randomized grid search"
      ]
    },
    {
      "cell_type": "markdown",
      "metadata": {
        "id": "0xYAXYYAdk-7"
      },
      "source": [
        "<img src=\"https://miro.medium.com/v2/format:webp/1*ZTlQm_WRcrNqL-nLnx6GJA.png\" width=600>"
      ]
    },
    {
      "cell_type": "markdown",
      "metadata": {
        "id": "a8JvesRudk-7"
      },
      "source": [
        "SVMs typically contain multiple hyperparameters. First of all there is the penalty of regularization (often noted as $C$ for SVMs, equivalent to $1/\\lambda$ previously seen in theory). Second there is a kernel to choose, and depending on the kernel, there can be one (or sometimes more) hyperparameters to tune (often denoted with a $\\gamma$). One can even include the type of kernel as a hyperparameter. It is straightforward to note that the computational time of training a model increases exponentially with the number of hyperparameters that needs to be  tuned.\n",
        "\n",
        "Two searches are often proposed to tune a machine learning model in function of its hyperparameters:\n",
        "- the first considers an exhaustive and structured search in the full hyperparameter space;\n",
        "- the second applies random combinations of hyperparameter settings.\n",
        "\n",
        "[It has been shown that when only few hyperparameters have an impact on model performance a randomized grid search is preferred. ](http://www.jmlr.org/papers/volume13/bergstra12a/bergstra12a.pdf)\n",
        "\n",
        "`Scikit-learn` offers implementations of [both](http://scikit-learn.org/stable/modules/grid_search.html), of which we will compare the use in this PC-lab."
      ]
    },
    {
      "cell_type": "markdown",
      "metadata": {
        "id": "rPc22PtGdk-8"
      },
      "source": [
        "## Support vector classification of microbial flow cytometry data"
      ]
    },
    {
      "cell_type": "markdown",
      "metadata": {
        "id": "tDcCuboGdk-8"
      },
      "source": [
        "#### Dataset\n",
        "We will have a second look at the flow cytometry dataset. The 'SC' features measure scatter, and say something about the morphologhy of the cells (FSC: forward scatter, SSC: sideway scatter). The 'FL' features are fluorescence features from different parts of the spectrum. Two bacterial species have been measured separately, _Shewanella oneidensis_ and _Sphingomonas aromaticivorans_, labelled 1 and 0 respectively. Scikit-learn provides [various implementations of SVMs](http://scikit-learn.org/stable/modules/classes.html#module-sklearn.svm), which we will use to analyze this dataset."
      ]
    },
    {
      "cell_type": "markdown",
      "metadata": {
        "id": "_T3aBkeNdk-8"
      },
      "source": [
        "<div class=\"alert alert-success\">\n",
        "<h1>EXERCISE 9.1</h2>\n",
        "<p><b>\n",
        "a) Read in the data from the files `fc_train` and `fc_test`. Often, before flow cytometry data can be analyzed, mathematical transformations are applied to for example visualize the data. Therefore we first need to preprocess the data by performing an $\\text{arcsinh}(x)$ transformation and normalization (or standardization). Why do we need to normalize for SVMs? Sample 10% of the train data (due to long runtimes) and perform the suggested preprocessing steps.\n",
        "\n",
        "b) Fit and optimize a SVM with a linear kernel to the training data. The 'species' label denotes the target to predict, you can ignore the 'Width' and 'Time' feature. Evaluate the performance on the test set, for different values of the regularization parameter. What's the 'optimal' performance of this model? Which hyperparameter setting goes along with this? What does this mean?\n",
        "\n",
        "c) Explore other kernels to tackle this dataset. Find optimal hyperparameters using a grid search.\n",
        "\n",
        "d) Another possibility is to use a randomized grid search. How long did previous exercise take? How long does a randomized grid search take before you reach the same performance? What do you prefer?\n",
        "\n",
        "e) What would be an alternative option to tune your model?\n",
        "</b>\n",
        "</div>"
      ]
    },
    {
      "cell_type": "code",
      "execution_count": null,
      "metadata": {
        "id": "jynWOrzwdk-8"
      },
      "outputs": [],
      "source": [
        "import numpy as np\n",
        "import urllib.request\n",
        "\n",
        "from sklearn.metrics import accuracy_score\n",
        "from sklearn.metrics import confusion_matrix\n",
        "from sklearn.metrics import mean_squared_error\n",
        "from sklearn.model_selection import GridSearchCV\n",
        "from sklearn.model_selection import RandomizedSearchCV\n",
        "from sklearn.model_selection import train_test_split\n",
        "from sklearn.preprocessing import LabelEncoder\n",
        "from sklearn.preprocessing import StandardScaler\n",
        "from sklearn.svm import SVC\n",
        "from sklearn.svm import SVR\n",
        "\n",
        "import matplotlib.pyplot as plt\n",
        "import pandas as pd\n",
        "import seaborn as sns\n",
        "\n",
        "from IPython.display import display, HTML\n",
        "\n",
        "plt.style.use('seaborn-v0_8')"
      ]
    },
    {
      "cell_type": "markdown",
      "metadata": {
        "id": "C7A8Uio9dk-9"
      },
      "source": [
        "Download the data and read them into dataframes:"
      ]
    },
    {
      "cell_type": "code",
      "execution_count": null,
      "metadata": {
        "id": "XmgFd3KDdk-9"
      },
      "outputs": [],
      "source": [
        "# load data\n",
        "urllib.request.urlretrieve('https://raw.githubusercontent.com/BioML-UGent/MLLS/main/08_svms/fc_train.csv', 'fc_train.csv')\n",
        "urllib.request.urlretrieve('https://raw.githubusercontent.com/BioML-UGent/MLLS/main/08_svms/fc_test.csv', 'fc_test.csv')\n",
        "\n",
        "# read data into pandas dataframe\n",
        "df_train = pd.read_csv('fc_train.csv', header=0, index_col=0)\n",
        "df_test = pd.read_csv('fc_test.csv', header=0, index_col=0)\n"
      ]
    },
    {
      "cell_type": "markdown",
      "metadata": {
        "id": "Jg8IsAZ8dk-9"
      },
      "source": [
        "##### 1a) Sample a fraction from the train data, perform the transformation, scale the data:"
      ]
    },
    {
      "cell_type": "code",
      "execution_count": null,
      "metadata": {
        "id": "RnqjFb9Vdk-9",
        "outputId": "a9350fbe-ed3a-41a7-9d5f-19f46e952fc0"
      },
      "outputs": [
        {
          "data": {
            "text/html": [
              "<div>\n",
              "<style scoped>\n",
              "    .dataframe tbody tr th:only-of-type {\n",
              "        vertical-align: middle;\n",
              "    }\n",
              "\n",
              "    .dataframe tbody tr th {\n",
              "        vertical-align: top;\n",
              "    }\n",
              "\n",
              "    .dataframe thead th {\n",
              "        text-align: right;\n",
              "    }\n",
              "</style>\n",
              "<table border=\"1\" class=\"dataframe\">\n",
              "  <thead>\n",
              "    <tr style=\"text-align: right;\">\n",
              "      <th></th>\n",
              "      <th>FSC-A</th>\n",
              "      <th>SSC-A</th>\n",
              "      <th>FL1-A</th>\n",
              "      <th>FL2-A</th>\n",
              "      <th>FL3-A</th>\n",
              "      <th>FL4-A</th>\n",
              "      <th>FSC-H</th>\n",
              "      <th>SSC-H</th>\n",
              "      <th>FL1-H</th>\n",
              "      <th>FL2-H</th>\n",
              "      <th>FL3-H</th>\n",
              "      <th>FL4-H</th>\n",
              "      <th>Width</th>\n",
              "      <th>Time</th>\n",
              "      <th>species</th>\n",
              "    </tr>\n",
              "  </thead>\n",
              "  <tbody>\n",
              "    <tr>\n",
              "      <th>5532</th>\n",
              "      <td>10981.0</td>\n",
              "      <td>1250.0</td>\n",
              "      <td>125945.0</td>\n",
              "      <td>22578.0</td>\n",
              "      <td>13324.0</td>\n",
              "      <td>870.0</td>\n",
              "      <td>29025.996094</td>\n",
              "      <td>2557.998779</td>\n",
              "      <td>120230.039062</td>\n",
              "      <td>21951.0</td>\n",
              "      <td>11193.998047</td>\n",
              "      <td>1616.0</td>\n",
              "      <td>68.0</td>\n",
              "      <td>188.0</td>\n",
              "      <td>7</td>\n",
              "    </tr>\n",
              "    <tr>\n",
              "      <th>9647</th>\n",
              "      <td>11463.0</td>\n",
              "      <td>3283.0</td>\n",
              "      <td>213755.0</td>\n",
              "      <td>42429.0</td>\n",
              "      <td>27720.0</td>\n",
              "      <td>0.0</td>\n",
              "      <td>23961.009766</td>\n",
              "      <td>3816.000732</td>\n",
              "      <td>199565.921875</td>\n",
              "      <td>39734.0</td>\n",
              "      <td>22274.005859</td>\n",
              "      <td>347.0</td>\n",
              "      <td>74.0</td>\n",
              "      <td>307.0</td>\n",
              "      <td>7</td>\n",
              "    </tr>\n",
              "    <tr>\n",
              "      <th>8085</th>\n",
              "      <td>5796.0</td>\n",
              "      <td>5472.0</td>\n",
              "      <td>162286.0</td>\n",
              "      <td>26598.0</td>\n",
              "      <td>12510.0</td>\n",
              "      <td>0.0</td>\n",
              "      <td>20137.996094</td>\n",
              "      <td>9281.000000</td>\n",
              "      <td>153533.015625</td>\n",
              "      <td>24781.0</td>\n",
              "      <td>11737.005859</td>\n",
              "      <td>229.0</td>\n",
              "      <td>69.0</td>\n",
              "      <td>609.0</td>\n",
              "      <td>7</td>\n",
              "    </tr>\n",
              "    <tr>\n",
              "      <th>7133</th>\n",
              "      <td>5296.0</td>\n",
              "      <td>2403.0</td>\n",
              "      <td>163095.0</td>\n",
              "      <td>30470.0</td>\n",
              "      <td>22930.0</td>\n",
              "      <td>0.0</td>\n",
              "      <td>24603.003906</td>\n",
              "      <td>4085.998535</td>\n",
              "      <td>150866.984375</td>\n",
              "      <td>27674.0</td>\n",
              "      <td>17582.001953</td>\n",
              "      <td>1601.0</td>\n",
              "      <td>72.0</td>\n",
              "      <td>212.0</td>\n",
              "      <td>7</td>\n",
              "    </tr>\n",
              "    <tr>\n",
              "      <th>2600</th>\n",
              "      <td>16234.0</td>\n",
              "      <td>4354.0</td>\n",
              "      <td>110271.0</td>\n",
              "      <td>15036.0</td>\n",
              "      <td>6059.0</td>\n",
              "      <td>557.0</td>\n",
              "      <td>46084.992188</td>\n",
              "      <td>5912.998535</td>\n",
              "      <td>112693.039062</td>\n",
              "      <td>15283.0</td>\n",
              "      <td>5568.002441</td>\n",
              "      <td>687.0</td>\n",
              "      <td>67.0</td>\n",
              "      <td>610.0</td>\n",
              "      <td>3</td>\n",
              "    </tr>\n",
              "  </tbody>\n",
              "</table>\n",
              "</div>"
            ],
            "text/plain": [
              "        FSC-A   SSC-A     FL1-A    FL2-A    FL3-A  FL4-A         FSC-H  \\\n",
              "5532  10981.0  1250.0  125945.0  22578.0  13324.0  870.0  29025.996094   \n",
              "9647  11463.0  3283.0  213755.0  42429.0  27720.0    0.0  23961.009766   \n",
              "8085   5796.0  5472.0  162286.0  26598.0  12510.0    0.0  20137.996094   \n",
              "7133   5296.0  2403.0  163095.0  30470.0  22930.0    0.0  24603.003906   \n",
              "2600  16234.0  4354.0  110271.0  15036.0   6059.0  557.0  46084.992188   \n",
              "\n",
              "            SSC-H          FL1-H    FL2-H         FL3-H   FL4-H  Width   Time  \\\n",
              "5532  2557.998779  120230.039062  21951.0  11193.998047  1616.0   68.0  188.0   \n",
              "9647  3816.000732  199565.921875  39734.0  22274.005859   347.0   74.0  307.0   \n",
              "8085  9281.000000  153533.015625  24781.0  11737.005859   229.0   69.0  609.0   \n",
              "7133  4085.998535  150866.984375  27674.0  17582.001953  1601.0   72.0  212.0   \n",
              "2600  5912.998535  112693.039062  15283.0   5568.002441   687.0   67.0  610.0   \n",
              "\n",
              "      species  \n",
              "5532        7  \n",
              "9647        7  \n",
              "8085        7  \n",
              "7133        7  \n",
              "2600        3  "
            ]
          },
          "metadata": {},
          "output_type": "display_data"
        }
      ],
      "source": [
        "\n",
        "#Tip: np.arcsinh()\n",
        "# sample 10 % of the train data (with replacement) for training: note: use 'species' as weights\n",
        "fc_train = df_train.sample(frac=.1, weights='species', random_state=42)\n",
        "# take all but 'Width', 'Time' and 'species' column names for features\n",
        "features = fc_train.columns[:-3]\n",
        "# take 'species' column as target\n",
        "display(fc_train.head(5))\n",
        "\n",
        "# transform data with arcsinh\n",
        "fc_train_trans = np.arcsinh(fc_train[features])\n",
        "fc_test_trans = np.arcsinh(df_test[features])\n",
        "\n",
        "# scale data\n",
        "scaler = StandardScaler()\n",
        "# fitr to train data and transform train and test data\n",
        "scaler.fit(fc_train_trans)\n",
        "fc_train_scaled = scaler.transform(fc_train_trans)\n",
        "fc_test_scaled = scaler.transform(fc_test_trans)\n",
        "\n",
        "fc_train_scaled = pd.DataFrame(fc_train_scaled, columns=features)\n",
        "fc_test_scaled = pd.DataFrame(fc_test_scaled, columns=features)"
      ]
    },
    {
      "cell_type": "code",
      "execution_count": null,
      "metadata": {
        "id": "B75G2qKEdk--",
        "outputId": "b2bd6249-2fa2-4c5d-bea1-ceefd6549fd2"
      },
      "outputs": [
        {
          "data": {
            "text/html": [
              "<div>\n",
              "<style scoped>\n",
              "    .dataframe tbody tr th:only-of-type {\n",
              "        vertical-align: middle;\n",
              "    }\n",
              "\n",
              "    .dataframe tbody tr th {\n",
              "        vertical-align: top;\n",
              "    }\n",
              "\n",
              "    .dataframe thead th {\n",
              "        text-align: right;\n",
              "    }\n",
              "</style>\n",
              "<table border=\"1\" class=\"dataframe\">\n",
              "  <thead>\n",
              "    <tr style=\"text-align: right;\">\n",
              "      <th></th>\n",
              "      <th>FSC-A</th>\n",
              "      <th>SSC-A</th>\n",
              "      <th>FL1-A</th>\n",
              "      <th>FL2-A</th>\n",
              "      <th>FL3-A</th>\n",
              "      <th>FL4-A</th>\n",
              "      <th>FSC-H</th>\n",
              "      <th>SSC-H</th>\n",
              "      <th>FL1-H</th>\n",
              "      <th>FL2-H</th>\n",
              "      <th>FL3-H</th>\n",
              "      <th>FL4-H</th>\n",
              "    </tr>\n",
              "  </thead>\n",
              "  <tbody>\n",
              "    <tr>\n",
              "      <th>0</th>\n",
              "      <td>-0.985406</td>\n",
              "      <td>-0.533315</td>\n",
              "      <td>0.863242</td>\n",
              "      <td>0.837270</td>\n",
              "      <td>0.576845</td>\n",
              "      <td>-1.104317</td>\n",
              "      <td>-1.172665</td>\n",
              "      <td>-0.781640</td>\n",
              "      <td>0.878910</td>\n",
              "      <td>0.903223</td>\n",
              "      <td>0.590659</td>\n",
              "      <td>0.333780</td>\n",
              "    </tr>\n",
              "    <tr>\n",
              "      <th>1</th>\n",
              "      <td>0.917216</td>\n",
              "      <td>0.354519</td>\n",
              "      <td>-0.026396</td>\n",
              "      <td>0.271587</td>\n",
              "      <td>1.225693</td>\n",
              "      <td>-1.104317</td>\n",
              "      <td>1.746210</td>\n",
              "      <td>0.649520</td>\n",
              "      <td>0.026573</td>\n",
              "      <td>0.306803</td>\n",
              "      <td>1.345458</td>\n",
              "      <td>0.448159</td>\n",
              "    </tr>\n",
              "    <tr>\n",
              "      <th>2</th>\n",
              "      <td>0.826282</td>\n",
              "      <td>0.706024</td>\n",
              "      <td>0.094759</td>\n",
              "      <td>0.188678</td>\n",
              "      <td>0.417619</td>\n",
              "      <td>-1.104317</td>\n",
              "      <td>1.366073</td>\n",
              "      <td>1.114534</td>\n",
              "      <td>0.183050</td>\n",
              "      <td>0.281718</td>\n",
              "      <td>0.540198</td>\n",
              "      <td>-2.190632</td>\n",
              "    </tr>\n",
              "    <tr>\n",
              "      <th>3</th>\n",
              "      <td>0.766880</td>\n",
              "      <td>1.196137</td>\n",
              "      <td>1.103736</td>\n",
              "      <td>1.139444</td>\n",
              "      <td>1.445694</td>\n",
              "      <td>1.207447</td>\n",
              "      <td>1.500251</td>\n",
              "      <td>2.300268</td>\n",
              "      <td>1.219181</td>\n",
              "      <td>1.258502</td>\n",
              "      <td>1.454078</td>\n",
              "      <td>1.405983</td>\n",
              "    </tr>\n",
              "    <tr>\n",
              "      <th>4</th>\n",
              "      <td>0.626092</td>\n",
              "      <td>0.202021</td>\n",
              "      <td>1.055239</td>\n",
              "      <td>0.821835</td>\n",
              "      <td>-0.143496</td>\n",
              "      <td>-1.104317</td>\n",
              "      <td>1.260492</td>\n",
              "      <td>-0.062854</td>\n",
              "      <td>1.195624</td>\n",
              "      <td>0.957773</td>\n",
              "      <td>-0.063155</td>\n",
              "      <td>0.637847</td>\n",
              "    </tr>\n",
              "  </tbody>\n",
              "</table>\n",
              "</div>"
            ],
            "text/plain": [
              "      FSC-A     SSC-A     FL1-A     FL2-A     FL3-A     FL4-A     FSC-H  \\\n",
              "0 -0.985406 -0.533315  0.863242  0.837270  0.576845 -1.104317 -1.172665   \n",
              "1  0.917216  0.354519 -0.026396  0.271587  1.225693 -1.104317  1.746210   \n",
              "2  0.826282  0.706024  0.094759  0.188678  0.417619 -1.104317  1.366073   \n",
              "3  0.766880  1.196137  1.103736  1.139444  1.445694  1.207447  1.500251   \n",
              "4  0.626092  0.202021  1.055239  0.821835 -0.143496 -1.104317  1.260492   \n",
              "\n",
              "      SSC-H     FL1-H     FL2-H     FL3-H     FL4-H  \n",
              "0 -0.781640  0.878910  0.903223  0.590659  0.333780  \n",
              "1  0.649520  0.026573  0.306803  1.345458  0.448159  \n",
              "2  1.114534  0.183050  0.281718  0.540198 -2.190632  \n",
              "3  2.300268  1.219181  1.258502  1.454078  1.405983  \n",
              "4 -0.062854  1.195624  0.957773 -0.063155  0.637847  "
            ]
          },
          "metadata": {},
          "output_type": "display_data"
        }
      ],
      "source": [
        "display(fc_test_scaled.head(5))"
      ]
    },
    {
      "cell_type": "markdown",
      "metadata": {
        "id": "UkcBPXP4dk--"
      },
      "source": [
        "##### 1b) Fit and optimize an SVM"
      ]
    },
    {
      "cell_type": "code",
      "execution_count": null,
      "metadata": {
        "id": "7nVEP3zkdk--",
        "outputId": "1f1e76f8-d2e8-488c-95cc-912fdf50aae1"
      },
      "outputs": [
        {
          "data": {
            "image/png": "[encoded data removed]",
            "text/plain": [
              "<Figure size 800x550 with 1 Axes>"
            ]
          },
          "metadata": {},
          "output_type": "display_data"
        },
        {
          "name": "stdout",
          "output_type": "stream",
          "text": [
            "Performance Linear SVM: 0.8777\n",
            "Optimal C: 10000.0\n"
          ]
        }
      ],
      "source": [
        "##1b):\n",
        "acc = np.zeros(10)\n",
        "i=0\n",
        "# iterate over different values for C\n",
        "for c in np.logspace(-4,4,10):\n",
        "\n",
        "    svc = SVC(C=c,kernel='linear')\n",
        "    svc.fit(fc_train_scaled[features],fc_train['species'])\n",
        "    y_pred = svc.predict(fc_test_scaled[features])\n",
        "    acc[i] = accuracy_score(df_test['species'],y_pred)\n",
        "    i+=1\n",
        "\n",
        "fig, ax = plt.subplots()\n",
        "ax.scatter(np.logspace(-4,4,10), acc, c='r', marker='x', s=50)\n",
        "ax.set_xlabel('C', size=15)\n",
        "ax.set_ylabel('Accuracy', size=15)\n",
        "ax.set_xscale('log')\n",
        "ax.set_xlim(10**(-5),10**5)\n",
        "ax.set_ylim(0.75,0.95)\n",
        "\n",
        "plt.title('Linear SVM for different values of C', size=15)\n",
        "plt.show()\n",
        "\n",
        "print('Performance Linear SVM: ' + str(acc.max()))\n",
        "print(\"Optimal C: \" + str(np.logspace(-4,4,10)[acc.argmax()]))"
      ]
    },
    {
      "cell_type": "markdown",
      "metadata": {
        "id": "nocDuoZIdk--"
      },
      "source": [
        "#### 1c) perform GridSearch over c using other kernels\n",
        "Use the scikit-learn class [both](http://scikit-learn.org/stable/modules/grid_search.html), optimize over the regularization strength as well as the kernel parameters"
      ]
    },
    {
      "cell_type": "code",
      "execution_count": null,
      "metadata": {
        "id": "bamSbJEjdk--",
        "outputId": "346d09be-7954-48bd-a6bd-ba6845469b6a"
      },
      "outputs": [
        {
          "name": "stdout",
          "output_type": "stream",
          "text": [
            "Accuracy SVM with rbf-kernel after grid search: 0.8948\n",
            "CPU times: user 5.42 s, sys: 24.8 ms, total: 5.44 s\n",
            "Wall time: 5.48 s\n"
          ]
        }
      ],
      "source": [
        "%%time\n",
        "##1c):\n",
        "svc_gs = GridSearchCV(SVC(kernel='rbf'), param_grid={\"C\": np.logspace(-3,3,10),\n",
        " \"gamma\": np.logspace(-2, 2, 10)}, cv=3)\n",
        "svc_gs.fit(fc_train_scaled[features],fc_train['species'])\n",
        "y_pred = svc_gs.predict(fc_test_scaled[features])\n",
        "acc_gs = accuracy_score(df_test['species'],y_pred)\n",
        "print('Accuracy SVM with rbf-kernel after grid search: ' + str(acc_gs))"
      ]
    },
    {
      "cell_type": "code",
      "execution_count": null,
      "metadata": {
        "id": "opMSu_QKdk-_",
        "outputId": "29502b91-f732-45a1-8aef-dadcd3153dc9"
      },
      "outputs": [
        {
          "name": "stdout",
          "output_type": "stream",
          "text": [
            "Best parameters: {'C': 10.0, 'gamma': 0.027825594022071243} with an accurcy of 0.8948\n"
          ]
        }
      ],
      "source": [
        "svc_gs.best_params_\n",
        "print(f\"Best parameters: {svc_gs.best_params_} with an accurcy of {acc_gs}\")"
      ]
    },
    {
      "cell_type": "code",
      "execution_count": null,
      "metadata": {
        "id": "TqF-DBDDdk-_",
        "outputId": "96336e27-8d01-482b-ecf7-4e15fe97c40f"
      },
      "outputs": [
        {
          "name": "stdout",
          "output_type": "stream",
          "text": [
            "Accuracy SVM with rbf-kernel after randomized grid search: 0.8871\n",
            "CPU times: user 2.94 s, sys: 16 ms, total: 2.96 s\n",
            "Wall time: 2.98 s\n"
          ]
        }
      ],
      "source": [
        "%%time\n",
        "#1d):\n",
        "svc_rs = RandomizedSearchCV(SVC(kernel='rbf'), param_distributions={\"C\": np.logspace(-3,3,1000),\n",
        "\"gamma\": np.logspace(-3, 3, 1000)}, n_iter=50, cv=3)\n",
        "svc_rs.fit(fc_train_scaled[features],fc_train['species'])\n",
        "y_pred = svc_rs.predict(fc_test_scaled[features])\n",
        "acc_rs = accuracy_score(df_test['species'],y_pred)\n",
        "\n",
        "print('Accuracy SVM with rbf-kernel after randomized grid search: ' + str(acc_rs))"
      ]
    },
    {
      "cell_type": "code",
      "execution_count": null,
      "metadata": {
        "id": "PpzufL5Idk-_",
        "outputId": "01a13f5c-839e-4df5-a675-e84ee771a637"
      },
      "outputs": [
        {
          "name": "stdout",
          "output_type": "stream",
          "text": [
            "Best parameters: {'gamma': 0.024064751500154243, 'C': 3.2174181506763717} with an accurcy of 0.8871\n"
          ]
        }
      ],
      "source": [
        "print(f'Best parameters: {svc_rs.best_params_} with an accurcy of {acc_rs}')"
      ]
    },
    {
      "cell_type": "markdown",
      "metadata": {
        "id": "i97ae0mOdk-_"
      },
      "source": [
        "## Support Vector Machines with custom kernels"
      ]
    },
    {
      "cell_type": "markdown",
      "metadata": {
        "id": "PYeWBZPjdk-_"
      },
      "source": [
        "The only requirement for a valid kernel is that it is positive definite and symmetric. Therefore, it is possible to define a **kernel function over complex structures**, making kernel methods particularly useful in bioinformatics,\n",
        "where the instances are often sequences, graphs, trees, molecules or texts, rather than vectors of fixed length. However, the use of these types of kernels can be computationally demanding."
      ]
    },
    {
      "cell_type": "markdown",
      "metadata": {
        "id": "_E42pcLtdk-_"
      },
      "source": [
        "In this last part of the PC-lab we will use a _spectrum kernel_ for predicting the molecular function of a set of protein sequences. This kernel is based on the number of $k$-mers that two sequences have in common. Suppose that each sequence is denoted as $\\mathbf{x_i} \\in \\Sigma^∗$ where $\\Sigma$ is the alphabet of amino acids or nucleotides, depending on the application. A $k$-mer $\\mathbf{a} \\in \\Sigma_k$ is a sequence of length $k$. The sequence $\\mathbf{x_i}$ contains $\\mathbf{a}$ iff $\\mathbf{x_i} = \\mathbf{uav}$ with $\\boldsymbol{u}$, $\\boldsymbol{v}$ being some other (possibly of lengtgh $0$) sequences.\n",
        "\n",
        "Let $N(\\mathbf{a}, \\mathbf{x_i})$ be the number of times $\\mathbf{a}$ appears in sequence $\\mathbf{x_i}$. With this notation in mind, the _spectrum kernel function_ between two strings $\\mathbf{x_i}$ and $\\mathbf{x_j}$ is defined as:\n",
        "\\begin{equation}\n",
        "    SK_k(\\mathbf{x_i},\\mathbf{x_j}) = \\sum_{\\mathbf{a} \\in \\Sigma_k} N(\\mathbf{a},\\mathbf{x_i}) \\times N(\\mathbf{a},\\mathbf{x_j}).\n",
        "\\end{equation}"
      ]
    },
    {
      "cell_type": "markdown",
      "metadata": {
        "id": "DBJEDitTdk-_"
      },
      "source": [
        "This kernel is biased toward sequences that contain multiple instances of the same k-mer. This can easily be seen when considering a pair of sequences that contains the same $k$-mer twice. Such a pair gains a score of 4, while having two different $k$-mers in common only gives a score of 2. For this reason a normalized spectrum kernel can be used as alternative, defined as:\n",
        "\\begin{equation}\n",
        "    NSK_k(\\mathbf{x_i},\\mathbf{x_j}) = \\sum_{\\mathbf{a} \\in \\Sigma_k} \\text{min}\\left( N(\\mathbf{a},\\mathbf{x_i}),N(\\mathbf{a},\\mathbf{x_j})\\right).\n",
        "\\end{equation}"
      ]
    },
    {
      "cell_type": "markdown",
      "metadata": {
        "id": "XnGqkJiGdk-_"
      },
      "source": [
        "The normalized kernel has an explicitly defined mapping $\\phi(\\mathbf{x})$. If the maximum length of the sequences is $n$, then $\\phi(\\mathbf{x})$ defines a map of $\\mathbf{x} \\in \\Sigma^n$ to a feature space of dimension $|\\Sigma^kn|$, where each dimension is indexed by a $k$-mer a and an integer $1 ≥ i ≥ n$. The mapping is as follows:\n",
        "\\begin{equation}\n",
        "\\phi_{(\\mathbf{a},i)}(\\mathbf{x}) = \\left\\{\n",
        "    \\begin{array}{ll}\n",
        "        1 & \\text{if $k$-mer $\\mathbf{a}$ appears at least $i$ times in $\\mathbf{x}$}, \\\\\n",
        "        0 & \\text{otherwise}.\n",
        "    \\end{array}\n",
        "\\right.\n",
        "\\end{equation}"
      ]
    },
    {
      "cell_type": "markdown",
      "metadata": {
        "id": "OONrUrH_dk_A"
      },
      "source": [
        "Using these two kernels, we will analyze 150 protein sequences and predict their functional label. Each molecule belongs either to the category `transport`, `glycosylation` or `signaling`."
      ]
    },
    {
      "cell_type": "markdown",
      "metadata": {
        "id": "mIR6015Fdk_A"
      },
      "source": [
        "`Calculate (Normalized) Spectrum Kernel`:\n",
        "\n",
        "**Input**: Sequence 1, Sequence 2, $k$;\n",
        "\n",
        "**1. ** Find all possible substrings of length $k$ in sequence 1.\n",
        "\n",
        "**2. ** Find all possible substrings of length $k$ in sequence 2.\n",
        "\n",
        "**3. ** Find common subset of substrings present in sequence 1 and sequence 2.\n",
        "\n",
        "**4. ** Count the number of times a specific substring is present in sequence 1 and 2 and calculate $SK$(sequence1,sequence2) or $NSK$(sequence1,sequence2) according to the formulas above."
      ]
    },
    {
      "cell_type": "markdown",
      "metadata": {
        "id": "lFubCltydk_A"
      },
      "source": [
        "<div class=\"alert alert-success\">\n",
        "<h1> EXERCISE 9.2 </h2>\n",
        "<p><b>\n",
        "In attachment to this PC-lab, you can find two files called `Spectrum_Kernel.csv` and `Spectrum_Kernel_norm.csv`. The labels of the proteins can be found in the file `ProteinFunctionalLabels.txt`. These files contain the gram matrices generated according to the code above.\n",
        "\n",
        "a) What kind of classification problem is this? How can this problem be approached?\n",
        "\n",
        "b) Which kernel representation works better? Evaluate the spectrum kernels using a SVM. Use 70% of the data for training and 30% for testing. Think about the properties of your kernel matrices. How should those training and test sets be constructed? How should the kernel matrix be feeded to the SVM? Don't forget to tune the complexity parameter $C$.\n",
        "</b>\n",
        "</div>"
      ]
    },
    {
      "cell_type": "code",
      "execution_count": null,
      "metadata": {
        "scrolled": true,
        "id": "E8CJcWWSdk_A",
        "outputId": "d7c51ffa-6610-4134-b9c6-a3871ae0cbd3"
      },
      "outputs": [
        {
          "name": "stderr",
          "output_type": "stream",
          "text": [
            "/Users/mirajuergens/opt/miniconda3/envs/mlfls/lib/python3.11/site-packages/sklearn/preprocessing/_label.py:114: DataConversionWarning: A column-vector y was passed when a 1d array was expected. Please change the shape of y to (n_samples, ), for example using ravel().\n",
            "  y = column_or_1d(y, warn=True)\n"
          ]
        },
        {
          "data": {
            "text/html": [
              "<div>\n",
              "<style scoped>\n",
              "    .dataframe tbody tr th:only-of-type {\n",
              "        vertical-align: middle;\n",
              "    }\n",
              "\n",
              "    .dataframe tbody tr th {\n",
              "        vertical-align: top;\n",
              "    }\n",
              "\n",
              "    .dataframe thead th {\n",
              "        text-align: right;\n",
              "    }\n",
              "</style>\n",
              "<table border=\"1\" class=\"dataframe\">\n",
              "  <thead>\n",
              "    <tr style=\"text-align: right;\">\n",
              "      <th></th>\n",
              "      <th>0</th>\n",
              "      <th>1</th>\n",
              "      <th>2</th>\n",
              "      <th>3</th>\n",
              "      <th>4</th>\n",
              "      <th>5</th>\n",
              "      <th>6</th>\n",
              "      <th>7</th>\n",
              "      <th>8</th>\n",
              "      <th>9</th>\n",
              "      <th>...</th>\n",
              "      <th>140</th>\n",
              "      <th>141</th>\n",
              "      <th>142</th>\n",
              "      <th>143</th>\n",
              "      <th>144</th>\n",
              "      <th>145</th>\n",
              "      <th>146</th>\n",
              "      <th>147</th>\n",
              "      <th>148</th>\n",
              "      <th>149</th>\n",
              "    </tr>\n",
              "  </thead>\n",
              "  <tbody>\n",
              "    <tr>\n",
              "      <th>118</th>\n",
              "      <td>14</td>\n",
              "      <td>17</td>\n",
              "      <td>14</td>\n",
              "      <td>4</td>\n",
              "      <td>19</td>\n",
              "      <td>13</td>\n",
              "      <td>18</td>\n",
              "      <td>27</td>\n",
              "      <td>15</td>\n",
              "      <td>20</td>\n",
              "      <td>...</td>\n",
              "      <td>5</td>\n",
              "      <td>17</td>\n",
              "      <td>39</td>\n",
              "      <td>10</td>\n",
              "      <td>35</td>\n",
              "      <td>33</td>\n",
              "      <td>23</td>\n",
              "      <td>16</td>\n",
              "      <td>18</td>\n",
              "      <td>13</td>\n",
              "    </tr>\n",
              "    <tr>\n",
              "      <th>78</th>\n",
              "      <td>33</td>\n",
              "      <td>39</td>\n",
              "      <td>47</td>\n",
              "      <td>11</td>\n",
              "      <td>15</td>\n",
              "      <td>46</td>\n",
              "      <td>12</td>\n",
              "      <td>55</td>\n",
              "      <td>15</td>\n",
              "      <td>24</td>\n",
              "      <td>...</td>\n",
              "      <td>21</td>\n",
              "      <td>18</td>\n",
              "      <td>56</td>\n",
              "      <td>20</td>\n",
              "      <td>50</td>\n",
              "      <td>73</td>\n",
              "      <td>16</td>\n",
              "      <td>26</td>\n",
              "      <td>30</td>\n",
              "      <td>17</td>\n",
              "    </tr>\n",
              "    <tr>\n",
              "      <th>148</th>\n",
              "      <td>30</td>\n",
              "      <td>51</td>\n",
              "      <td>41</td>\n",
              "      <td>9</td>\n",
              "      <td>37</td>\n",
              "      <td>39</td>\n",
              "      <td>39</td>\n",
              "      <td>67</td>\n",
              "      <td>14</td>\n",
              "      <td>29</td>\n",
              "      <td>...</td>\n",
              "      <td>27</td>\n",
              "      <td>22</td>\n",
              "      <td>77</td>\n",
              "      <td>23</td>\n",
              "      <td>69</td>\n",
              "      <td>77</td>\n",
              "      <td>30</td>\n",
              "      <td>35</td>\n",
              "      <td>460</td>\n",
              "      <td>30</td>\n",
              "    </tr>\n",
              "    <tr>\n",
              "      <th>74</th>\n",
              "      <td>33</td>\n",
              "      <td>57</td>\n",
              "      <td>59</td>\n",
              "      <td>11</td>\n",
              "      <td>44</td>\n",
              "      <td>58</td>\n",
              "      <td>42</td>\n",
              "      <td>93</td>\n",
              "      <td>25</td>\n",
              "      <td>49</td>\n",
              "      <td>...</td>\n",
              "      <td>37</td>\n",
              "      <td>44</td>\n",
              "      <td>101</td>\n",
              "      <td>26</td>\n",
              "      <td>87</td>\n",
              "      <td>118</td>\n",
              "      <td>50</td>\n",
              "      <td>50</td>\n",
              "      <td>52</td>\n",
              "      <td>28</td>\n",
              "    </tr>\n",
              "    <tr>\n",
              "      <th>3</th>\n",
              "      <td>6</td>\n",
              "      <td>12</td>\n",
              "      <td>3</td>\n",
              "      <td>91</td>\n",
              "      <td>9</td>\n",
              "      <td>3</td>\n",
              "      <td>9</td>\n",
              "      <td>14</td>\n",
              "      <td>3</td>\n",
              "      <td>7</td>\n",
              "      <td>...</td>\n",
              "      <td>12</td>\n",
              "      <td>5</td>\n",
              "      <td>9</td>\n",
              "      <td>7</td>\n",
              "      <td>8</td>\n",
              "      <td>19</td>\n",
              "      <td>7</td>\n",
              "      <td>9</td>\n",
              "      <td>9</td>\n",
              "      <td>6</td>\n",
              "    </tr>\n",
              "  </tbody>\n",
              "</table>\n",
              "<p>5 rows × 150 columns</p>\n",
              "</div>"
            ],
            "text/plain": [
              "     0    1    2    3    4    5    6    7    8    9    ...  140  141  142  \\\n",
              "118   14   17   14    4   19   13   18   27   15   20  ...    5   17   39   \n",
              "78    33   39   47   11   15   46   12   55   15   24  ...   21   18   56   \n",
              "148   30   51   41    9   37   39   39   67   14   29  ...   27   22   77   \n",
              "74    33   57   59   11   44   58   42   93   25   49  ...   37   44  101   \n",
              "3      6   12    3   91    9    3    9   14    3    7  ...   12    5    9   \n",
              "\n",
              "     143  144  145  146  147  148  149  \n",
              "118   10   35   33   23   16   18   13  \n",
              "78    20   50   73   16   26   30   17  \n",
              "148   23   69   77   30   35  460   30  \n",
              "74    26   87  118   50   50   52   28  \n",
              "3      7    8   19    7    9    9    6  \n",
              "\n",
              "[5 rows x 150 columns]"
            ]
          },
          "metadata": {},
          "output_type": "display_data"
        },
        {
          "data": {
            "text/html": [
              "<div>\n",
              "<style scoped>\n",
              "    .dataframe tbody tr th:only-of-type {\n",
              "        vertical-align: middle;\n",
              "    }\n",
              "\n",
              "    .dataframe tbody tr th {\n",
              "        vertical-align: top;\n",
              "    }\n",
              "\n",
              "    .dataframe thead th {\n",
              "        text-align: right;\n",
              "    }\n",
              "</style>\n",
              "<table border=\"1\" class=\"dataframe\">\n",
              "  <thead>\n",
              "    <tr style=\"text-align: right;\">\n",
              "      <th></th>\n",
              "      <th>118</th>\n",
              "      <th>78</th>\n",
              "      <th>148</th>\n",
              "      <th>74</th>\n",
              "      <th>3</th>\n",
              "      <th>72</th>\n",
              "      <th>50</th>\n",
              "      <th>37</th>\n",
              "      <th>43</th>\n",
              "      <th>49</th>\n",
              "      <th>...</th>\n",
              "      <th>55</th>\n",
              "      <th>63</th>\n",
              "      <th>39</th>\n",
              "      <th>9</th>\n",
              "      <th>14</th>\n",
              "      <th>45</th>\n",
              "      <th>131</th>\n",
              "      <th>91</th>\n",
              "      <th>82</th>\n",
              "      <th>31</th>\n",
              "    </tr>\n",
              "  </thead>\n",
              "  <tbody>\n",
              "    <tr>\n",
              "      <th>118</th>\n",
              "      <td>188</td>\n",
              "      <td>20</td>\n",
              "      <td>18</td>\n",
              "      <td>24</td>\n",
              "      <td>4</td>\n",
              "      <td>15</td>\n",
              "      <td>21</td>\n",
              "      <td>10</td>\n",
              "      <td>29</td>\n",
              "      <td>34</td>\n",
              "      <td>...</td>\n",
              "      <td>17</td>\n",
              "      <td>7</td>\n",
              "      <td>36</td>\n",
              "      <td>20</td>\n",
              "      <td>9</td>\n",
              "      <td>26</td>\n",
              "      <td>34</td>\n",
              "      <td>17</td>\n",
              "      <td>30</td>\n",
              "      <td>23</td>\n",
              "    </tr>\n",
              "    <tr>\n",
              "      <th>78</th>\n",
              "      <td>20</td>\n",
              "      <td>409</td>\n",
              "      <td>30</td>\n",
              "      <td>33</td>\n",
              "      <td>11</td>\n",
              "      <td>34</td>\n",
              "      <td>40</td>\n",
              "      <td>15</td>\n",
              "      <td>41</td>\n",
              "      <td>67</td>\n",
              "      <td>...</td>\n",
              "      <td>35</td>\n",
              "      <td>23</td>\n",
              "      <td>63</td>\n",
              "      <td>24</td>\n",
              "      <td>15</td>\n",
              "      <td>35</td>\n",
              "      <td>73</td>\n",
              "      <td>34</td>\n",
              "      <td>33</td>\n",
              "      <td>52</td>\n",
              "    </tr>\n",
              "    <tr>\n",
              "      <th>148</th>\n",
              "      <td>18</td>\n",
              "      <td>30</td>\n",
              "      <td>460</td>\n",
              "      <td>52</td>\n",
              "      <td>9</td>\n",
              "      <td>32</td>\n",
              "      <td>39</td>\n",
              "      <td>23</td>\n",
              "      <td>42</td>\n",
              "      <td>63</td>\n",
              "      <td>...</td>\n",
              "      <td>40</td>\n",
              "      <td>10</td>\n",
              "      <td>60</td>\n",
              "      <td>29</td>\n",
              "      <td>9</td>\n",
              "      <td>40</td>\n",
              "      <td>76</td>\n",
              "      <td>43</td>\n",
              "      <td>35</td>\n",
              "      <td>58</td>\n",
              "    </tr>\n",
              "    <tr>\n",
              "      <th>74</th>\n",
              "      <td>24</td>\n",
              "      <td>33</td>\n",
              "      <td>52</td>\n",
              "      <td>584</td>\n",
              "      <td>11</td>\n",
              "      <td>54</td>\n",
              "      <td>72</td>\n",
              "      <td>43</td>\n",
              "      <td>68</td>\n",
              "      <td>79</td>\n",
              "      <td>...</td>\n",
              "      <td>82</td>\n",
              "      <td>25</td>\n",
              "      <td>87</td>\n",
              "      <td>49</td>\n",
              "      <td>18</td>\n",
              "      <td>54</td>\n",
              "      <td>118</td>\n",
              "      <td>75</td>\n",
              "      <td>102</td>\n",
              "      <td>68</td>\n",
              "    </tr>\n",
              "    <tr>\n",
              "      <th>3</th>\n",
              "      <td>4</td>\n",
              "      <td>11</td>\n",
              "      <td>9</td>\n",
              "      <td>11</td>\n",
              "      <td>91</td>\n",
              "      <td>7</td>\n",
              "      <td>7</td>\n",
              "      <td>5</td>\n",
              "      <td>8</td>\n",
              "      <td>13</td>\n",
              "      <td>...</td>\n",
              "      <td>7</td>\n",
              "      <td>1</td>\n",
              "      <td>8</td>\n",
              "      <td>7</td>\n",
              "      <td>3</td>\n",
              "      <td>7</td>\n",
              "      <td>19</td>\n",
              "      <td>8</td>\n",
              "      <td>10</td>\n",
              "      <td>11</td>\n",
              "    </tr>\n",
              "  </tbody>\n",
              "</table>\n",
              "<p>5 rows × 105 columns</p>\n",
              "</div>"
            ],
            "text/plain": [
              "     118  78   148  74   3    72   50   37   43   49   ...  55   63   39   \\\n",
              "118  188   20   18   24    4   15   21   10   29   34  ...   17    7   36   \n",
              "78    20  409   30   33   11   34   40   15   41   67  ...   35   23   63   \n",
              "148   18   30  460   52    9   32   39   23   42   63  ...   40   10   60   \n",
              "74    24   33   52  584   11   54   72   43   68   79  ...   82   25   87   \n",
              "3      4   11    9   11   91    7    7    5    8   13  ...    7    1    8   \n",
              "\n",
              "     9    14   45   131  91   82   31   \n",
              "118   20    9   26   34   17   30   23  \n",
              "78    24   15   35   73   34   33   52  \n",
              "148   29    9   40   76   43   35   58  \n",
              "74    49   18   54  118   75  102   68  \n",
              "3      7    3    7   19    8   10   11  \n",
              "\n",
              "[5 rows x 105 columns]"
            ]
          },
          "metadata": {},
          "output_type": "display_data"
        },
        {
          "data": {
            "text/html": [
              "<div>\n",
              "<style scoped>\n",
              "    .dataframe tbody tr th:only-of-type {\n",
              "        vertical-align: middle;\n",
              "    }\n",
              "\n",
              "    .dataframe tbody tr th {\n",
              "        vertical-align: top;\n",
              "    }\n",
              "\n",
              "    .dataframe thead th {\n",
              "        text-align: right;\n",
              "    }\n",
              "</style>\n",
              "<table border=\"1\" class=\"dataframe\">\n",
              "  <thead>\n",
              "    <tr style=\"text-align: right;\">\n",
              "      <th></th>\n",
              "      <th>118</th>\n",
              "      <th>78</th>\n",
              "      <th>148</th>\n",
              "      <th>74</th>\n",
              "      <th>3</th>\n",
              "      <th>72</th>\n",
              "      <th>50</th>\n",
              "      <th>37</th>\n",
              "      <th>43</th>\n",
              "      <th>49</th>\n",
              "      <th>...</th>\n",
              "      <th>55</th>\n",
              "      <th>63</th>\n",
              "      <th>39</th>\n",
              "      <th>9</th>\n",
              "      <th>14</th>\n",
              "      <th>45</th>\n",
              "      <th>131</th>\n",
              "      <th>91</th>\n",
              "      <th>82</th>\n",
              "      <th>31</th>\n",
              "    </tr>\n",
              "  </thead>\n",
              "  <tbody>\n",
              "    <tr>\n",
              "      <th>118</th>\n",
              "      <td>180</td>\n",
              "      <td>19</td>\n",
              "      <td>18</td>\n",
              "      <td>22</td>\n",
              "      <td>4</td>\n",
              "      <td>15</td>\n",
              "      <td>18</td>\n",
              "      <td>9</td>\n",
              "      <td>23</td>\n",
              "      <td>25</td>\n",
              "      <td>...</td>\n",
              "      <td>14</td>\n",
              "      <td>7</td>\n",
              "      <td>31</td>\n",
              "      <td>19</td>\n",
              "      <td>9</td>\n",
              "      <td>24</td>\n",
              "      <td>30</td>\n",
              "      <td>15</td>\n",
              "      <td>26</td>\n",
              "      <td>19</td>\n",
              "    </tr>\n",
              "    <tr>\n",
              "      <th>78</th>\n",
              "      <td>19</td>\n",
              "      <td>383</td>\n",
              "      <td>27</td>\n",
              "      <td>29</td>\n",
              "      <td>10</td>\n",
              "      <td>32</td>\n",
              "      <td>35</td>\n",
              "      <td>15</td>\n",
              "      <td>33</td>\n",
              "      <td>51</td>\n",
              "      <td>...</td>\n",
              "      <td>32</td>\n",
              "      <td>22</td>\n",
              "      <td>54</td>\n",
              "      <td>24</td>\n",
              "      <td>14</td>\n",
              "      <td>32</td>\n",
              "      <td>53</td>\n",
              "      <td>31</td>\n",
              "      <td>31</td>\n",
              "      <td>44</td>\n",
              "    </tr>\n",
              "    <tr>\n",
              "      <th>148</th>\n",
              "      <td>18</td>\n",
              "      <td>27</td>\n",
              "      <td>438</td>\n",
              "      <td>47</td>\n",
              "      <td>7</td>\n",
              "      <td>31</td>\n",
              "      <td>31</td>\n",
              "      <td>22</td>\n",
              "      <td>36</td>\n",
              "      <td>54</td>\n",
              "      <td>...</td>\n",
              "      <td>36</td>\n",
              "      <td>9</td>\n",
              "      <td>54</td>\n",
              "      <td>28</td>\n",
              "      <td>9</td>\n",
              "      <td>34</td>\n",
              "      <td>64</td>\n",
              "      <td>38</td>\n",
              "      <td>30</td>\n",
              "      <td>47</td>\n",
              "    </tr>\n",
              "    <tr>\n",
              "      <th>74</th>\n",
              "      <td>22</td>\n",
              "      <td>29</td>\n",
              "      <td>47</td>\n",
              "      <td>530</td>\n",
              "      <td>10</td>\n",
              "      <td>50</td>\n",
              "      <td>63</td>\n",
              "      <td>36</td>\n",
              "      <td>57</td>\n",
              "      <td>65</td>\n",
              "      <td>...</td>\n",
              "      <td>63</td>\n",
              "      <td>22</td>\n",
              "      <td>73</td>\n",
              "      <td>41</td>\n",
              "      <td>16</td>\n",
              "      <td>46</td>\n",
              "      <td>89</td>\n",
              "      <td>68</td>\n",
              "      <td>89</td>\n",
              "      <td>58</td>\n",
              "    </tr>\n",
              "    <tr>\n",
              "      <th>3</th>\n",
              "      <td>4</td>\n",
              "      <td>10</td>\n",
              "      <td>7</td>\n",
              "      <td>10</td>\n",
              "      <td>89</td>\n",
              "      <td>7</td>\n",
              "      <td>7</td>\n",
              "      <td>5</td>\n",
              "      <td>8</td>\n",
              "      <td>13</td>\n",
              "      <td>...</td>\n",
              "      <td>6</td>\n",
              "      <td>1</td>\n",
              "      <td>8</td>\n",
              "      <td>6</td>\n",
              "      <td>3</td>\n",
              "      <td>7</td>\n",
              "      <td>16</td>\n",
              "      <td>8</td>\n",
              "      <td>10</td>\n",
              "      <td>8</td>\n",
              "    </tr>\n",
              "  </tbody>\n",
              "</table>\n",
              "<p>5 rows × 105 columns</p>\n",
              "</div>"
            ],
            "text/plain": [
              "     118  78   148  74   3    72   50   37   43   49   ...  55   63   39   \\\n",
              "118  180   19   18   22    4   15   18    9   23   25  ...   14    7   31   \n",
              "78    19  383   27   29   10   32   35   15   33   51  ...   32   22   54   \n",
              "148   18   27  438   47    7   31   31   22   36   54  ...   36    9   54   \n",
              "74    22   29   47  530   10   50   63   36   57   65  ...   63   22   73   \n",
              "3      4   10    7   10   89    7    7    5    8   13  ...    6    1    8   \n",
              "\n",
              "     9    14   45   131  91   82   31   \n",
              "118   19    9   24   30   15   26   19  \n",
              "78    24   14   32   53   31   31   44  \n",
              "148   28    9   34   64   38   30   47  \n",
              "74    41   16   46   89   68   89   58  \n",
              "3      6    3    7   16    8   10    8  \n",
              "\n",
              "[5 rows x 105 columns]"
            ]
          },
          "metadata": {},
          "output_type": "display_data"
        },
        {
          "data": {
            "text/html": [
              "<div>\n",
              "<style scoped>\n",
              "    .dataframe tbody tr th:only-of-type {\n",
              "        vertical-align: middle;\n",
              "    }\n",
              "\n",
              "    .dataframe tbody tr th {\n",
              "        vertical-align: top;\n",
              "    }\n",
              "\n",
              "    .dataframe thead th {\n",
              "        text-align: right;\n",
              "    }\n",
              "</style>\n",
              "<table border=\"1\" class=\"dataframe\">\n",
              "  <thead>\n",
              "    <tr style=\"text-align: right;\">\n",
              "      <th></th>\n",
              "      <th>118</th>\n",
              "      <th>78</th>\n",
              "      <th>148</th>\n",
              "      <th>74</th>\n",
              "      <th>3</th>\n",
              "      <th>72</th>\n",
              "      <th>50</th>\n",
              "      <th>37</th>\n",
              "      <th>43</th>\n",
              "      <th>49</th>\n",
              "      <th>...</th>\n",
              "      <th>55</th>\n",
              "      <th>63</th>\n",
              "      <th>39</th>\n",
              "      <th>9</th>\n",
              "      <th>14</th>\n",
              "      <th>45</th>\n",
              "      <th>131</th>\n",
              "      <th>91</th>\n",
              "      <th>82</th>\n",
              "      <th>31</th>\n",
              "    </tr>\n",
              "  </thead>\n",
              "  <tbody>\n",
              "    <tr>\n",
              "      <th>89</th>\n",
              "      <td>26</td>\n",
              "      <td>44</td>\n",
              "      <td>38</td>\n",
              "      <td>67</td>\n",
              "      <td>13</td>\n",
              "      <td>80</td>\n",
              "      <td>88</td>\n",
              "      <td>50</td>\n",
              "      <td>53</td>\n",
              "      <td>80</td>\n",
              "      <td>...</td>\n",
              "      <td>103</td>\n",
              "      <td>26</td>\n",
              "      <td>89</td>\n",
              "      <td>46</td>\n",
              "      <td>14</td>\n",
              "      <td>53</td>\n",
              "      <td>105</td>\n",
              "      <td>250</td>\n",
              "      <td>62</td>\n",
              "      <td>64</td>\n",
              "    </tr>\n",
              "    <tr>\n",
              "      <th>18</th>\n",
              "      <td>34</td>\n",
              "      <td>63</td>\n",
              "      <td>70</td>\n",
              "      <td>126</td>\n",
              "      <td>24</td>\n",
              "      <td>81</td>\n",
              "      <td>108</td>\n",
              "      <td>58</td>\n",
              "      <td>119</td>\n",
              "      <td>155</td>\n",
              "      <td>...</td>\n",
              "      <td>92</td>\n",
              "      <td>30</td>\n",
              "      <td>145</td>\n",
              "      <td>65</td>\n",
              "      <td>36</td>\n",
              "      <td>89</td>\n",
              "      <td>164</td>\n",
              "      <td>115</td>\n",
              "      <td>108</td>\n",
              "      <td>130</td>\n",
              "    </tr>\n",
              "    <tr>\n",
              "      <th>136</th>\n",
              "      <td>214</td>\n",
              "      <td>647</td>\n",
              "      <td>631</td>\n",
              "      <td>931</td>\n",
              "      <td>92</td>\n",
              "      <td>589</td>\n",
              "      <td>671</td>\n",
              "      <td>455</td>\n",
              "      <td>617</td>\n",
              "      <td>921</td>\n",
              "      <td>...</td>\n",
              "      <td>604</td>\n",
              "      <td>248</td>\n",
              "      <td>1099</td>\n",
              "      <td>469</td>\n",
              "      <td>276</td>\n",
              "      <td>699</td>\n",
              "      <td>2798</td>\n",
              "      <td>654</td>\n",
              "      <td>581</td>\n",
              "      <td>1553</td>\n",
              "    </tr>\n",
              "    <tr>\n",
              "      <th>57</th>\n",
              "      <td>6</td>\n",
              "      <td>24</td>\n",
              "      <td>26</td>\n",
              "      <td>49</td>\n",
              "      <td>12</td>\n",
              "      <td>33</td>\n",
              "      <td>34</td>\n",
              "      <td>21</td>\n",
              "      <td>50</td>\n",
              "      <td>55</td>\n",
              "      <td>...</td>\n",
              "      <td>29</td>\n",
              "      <td>10</td>\n",
              "      <td>66</td>\n",
              "      <td>23</td>\n",
              "      <td>14</td>\n",
              "      <td>40</td>\n",
              "      <td>64</td>\n",
              "      <td>36</td>\n",
              "      <td>30</td>\n",
              "      <td>37</td>\n",
              "    </tr>\n",
              "    <tr>\n",
              "      <th>144</th>\n",
              "      <td>35</td>\n",
              "      <td>50</td>\n",
              "      <td>69</td>\n",
              "      <td>87</td>\n",
              "      <td>8</td>\n",
              "      <td>57</td>\n",
              "      <td>76</td>\n",
              "      <td>57</td>\n",
              "      <td>80</td>\n",
              "      <td>93</td>\n",
              "      <td>...</td>\n",
              "      <td>73</td>\n",
              "      <td>27</td>\n",
              "      <td>131</td>\n",
              "      <td>58</td>\n",
              "      <td>25</td>\n",
              "      <td>97</td>\n",
              "      <td>185</td>\n",
              "      <td>61</td>\n",
              "      <td>71</td>\n",
              "      <td>114</td>\n",
              "    </tr>\n",
              "  </tbody>\n",
              "</table>\n",
              "<p>5 rows × 105 columns</p>\n",
              "</div>"
            ],
            "text/plain": [
              "     118  78   148  74   3    72   50   37   43   49   ...  55   63    39   \\\n",
              "89    26   44   38   67   13   80   88   50   53   80  ...  103   26    89   \n",
              "18    34   63   70  126   24   81  108   58  119  155  ...   92   30   145   \n",
              "136  214  647  631  931   92  589  671  455  617  921  ...  604  248  1099   \n",
              "57     6   24   26   49   12   33   34   21   50   55  ...   29   10    66   \n",
              "144   35   50   69   87    8   57   76   57   80   93  ...   73   27   131   \n",
              "\n",
              "     9    14   45    131  91   82    31   \n",
              "89    46   14   53   105  250   62    64  \n",
              "18    65   36   89   164  115  108   130  \n",
              "136  469  276  699  2798  654  581  1553  \n",
              "57    23   14   40    64   36   30    37  \n",
              "144   58   25   97   185   61   71   114  \n",
              "\n",
              "[5 rows x 105 columns]"
            ]
          },
          "metadata": {},
          "output_type": "display_data"
        }
      ],
      "source": [
        "urllib.request.urlretrieve('https://raw.githubusercontent.com/BioML-UGent/MLLS/main/08_svms/Spectrum_Kernel.csv', 'Spectrum_Kernel.csv')\n",
        "urllib.request.urlretrieve('https://raw.githubusercontent.com/BioML-UGent/MLLS/main/08_svms/Spectrum_Kernel_norm.csv', 'Spectrum_Kernel_norm.csv')\n",
        "urllib.request.urlretrieve('https://raw.githubusercontent.com/BioML-UGent/MLLS/main/08_svms/ProteinFunctionalLabels.txt', 'ProteinFunctionalLabels.txt')\n",
        "\n",
        "\n",
        "#Some preprocessing\n",
        "\n",
        "spectrum_kernel = pd.read_csv('Spectrum_Kernel.csv', header=None, index_col=None)\n",
        "spectrum_kernel_norm = pd.read_csv('Spectrum_Kernel_norm.csv', header=None, index_col=None)\n",
        "labels = pd.read_table('ProteinFunctionalLabels.txt',header=None, index_col=None)\n",
        "\n",
        "y = LabelEncoder().fit_transform(labels)\n",
        "y = pd.DataFrame(y,dtype=int)\n",
        "\n",
        "X_train, X_test, y_train, y_test = train_test_split(spectrum_kernel, y, train_size=0.7, stratify=y,\n",
        "                                                    random_state=5)\n",
        "display(X_train.head(5))\n",
        "X_train_norm, X_test_norm, y_train_norm, y_test_norm = train_test_split(spectrum_kernel_norm, y,\n",
        "                                                                        train_size=0.7, stratify=y,\n",
        "                                                                          random_state=5)\n",
        "\n",
        "X_train = X_train.iloc[:,X_train.index]\n",
        "X_test = X_test.iloc[:,X_train.index]\n",
        "X_train_norm = X_train_norm.iloc[:,X_train_norm.index]\n",
        "X_test_norm = X_test_norm.iloc[:,X_train_norm.index]\n",
        "\n",
        "display(X_train.head(5))\n",
        "\n",
        "display(X_train_norm.head(5))\n",
        "\n",
        "display(X_test.head(5))"
      ]
    },
    {
      "cell_type": "markdown",
      "metadata": {
        "id": "B_XUevKidk_A"
      },
      "source": [
        "#### 2 a) Tackle the classification problem using SVM.\n",
        "Tip: set kernel to 'precomputed' in the SVC class.\n",
        "Again try different values for $C$."
      ]
    },
    {
      "cell_type": "code",
      "execution_count": null,
      "metadata": {
        "id": "NddIxIvcdk_A",
        "outputId": "fd24f993-8134-4406-9bfa-c96c8c4382d1"
      },
      "outputs": [
        {
          "data": {
            "image/png": "[encoded data removed]",
            "text/plain": [
              "<Figure size 800x550 with 1 Axes>"
            ]
          },
          "metadata": {},
          "output_type": "display_data"
        },
        {
          "name": "stdout",
          "output_type": "stream",
          "text": [
            "Protein label identification performance using Spectrum Kernel: 0.8444444444444444\n",
            "Optimal C: 0.0010985411419875584\n"
          ]
        }
      ],
      "source": [
        "acc = np.zeros(50)\n",
        "i=0\n",
        "for c in np.logspace(-4,-1,50):\n",
        "    svc = SVC(C=c,kernel='precomputed',max_iter=500)\n",
        "    svc.fit(X_train,y_train.values.ravel())\n",
        "    y_pred = svc.predict(X_test)\n",
        "    acc[i] = accuracy_score(y_test,y_pred)\n",
        "    i+=1\n",
        "\n",
        "fig, ax = plt.subplots()\n",
        "ax.scatter(np.logspace(-4,-1,50), acc, c='r', marker='x', s=50)\n",
        "ax.set_xlabel('C', size=18)\n",
        "ax.set_ylabel('Accuracy', size=15)\n",
        "ax.set_xscale('log')\n",
        "ax.set_xlim(10**(-5),10**0)\n",
        "ax.set_ylim(0.1,1)\n",
        "plt.title('Spectrum Kernel SVM for different values of C', size=15)\n",
        "plt.show()\n",
        "\n",
        "print('Protein label identification performance using Spectrum Kernel: ' + str(acc.max()))\n",
        "print(\"Optimal C: \" + str(np.logspace(-4,-1,50)[acc.argmax()]))"
      ]
    },
    {
      "cell_type": "code",
      "execution_count": null,
      "metadata": {
        "id": "NoTYuxJ_dk_B",
        "outputId": "99a67aa5-0733-43d9-f3f0-47023ef2e483"
      },
      "outputs": [
        {
          "data": {
            "text/plain": [
              "Text(0.5, 1.0, 'Confusion matrix for Spectrum Kernel SVM')"
            ]
          },
          "execution_count": 19,
          "metadata": {},
          "output_type": "execute_result"
        },
        {
          "data": {
            "image/png": "[encoded data removed]",
            "text/plain": [
              "<Figure size 800x550 with 2 Axes>"
            ]
          },
          "metadata": {},
          "output_type": "display_data"
        }
      ],
      "source": [
        "svc = SVC(C=0.001,kernel='precomputed',max_iter=1000)\n",
        "svc.fit(X_train,y_train.values.ravel())\n",
        "y_pred = svc.predict(X_test)\n",
        "confusionmatrix = confusion_matrix(y_test.values.ravel(),y_pred)\n",
        "\n",
        "sns.heatmap(confusionmatrix, annot=True, fmt='d', cmap='Blues')\n",
        "plt.xlabel('Predicted label', size=15)\n",
        "plt.ylabel('True label', size=15)\n",
        "plt.title('Confusion matrix for Spectrum Kernel SVM', size=15)"
      ]
    },
    {
      "cell_type": "code",
      "execution_count": null,
      "metadata": {
        "id": "xyXdiykFdk_F",
        "outputId": "3a4edf67-cefb-42d4-ff7e-2c98497a6616"
      },
      "outputs": [
        {
          "data": {
            "image/png": "[encoded data removed]",
            "text/plain": [
              "<Figure size 800x550 with 1 Axes>"
            ]
          },
          "metadata": {},
          "output_type": "display_data"
        },
        {
          "name": "stdout",
          "output_type": "stream",
          "text": [
            "Protein label identification performance using Normalized Spectrum Kernel: 0.8444444444444444\n"
          ]
        }
      ],
      "source": [
        "acc_norm = np.zeros(50)\n",
        "i=0\n",
        "for c in np.logspace(-4,-1,50):\n",
        "    svc = SVC(C=c,kernel='precomputed',max_iter=1000)\n",
        "    svc.fit(X_train_norm,y_train_norm.values.ravel())\n",
        "    y_pred = svc.predict(X_test_norm)\n",
        "    acc_norm[i] = accuracy_score(y_test_norm,y_pred)\n",
        "    i+=1\n",
        "\n",
        "\n",
        "fig, ax = plt.subplots()\n",
        "ax.scatter(np.logspace(-4,-1,50), acc_norm, c='r', marker='x', s=50)\n",
        "ax.set_xlabel('C', size=15)\n",
        "ax.set_ylabel('Accuracy', size=15)\n",
        "ax.set_xscale('log')\n",
        "ax.set_xlim(10**(-5),10**0)\n",
        "ax.set_ylim(0.1,1)\n",
        "plt.title('Normalized Spectrum Kernel SVM for different values of C', size=15)\n",
        "plt.show()\n",
        "\n",
        "print('Protein label identification performance using Normalized Spectrum Kernel: ' + str(acc_norm.max()))"
      ]
    },
    {
      "cell_type": "code",
      "execution_count": null,
      "metadata": {
        "id": "2MF-Ha9ddk_F",
        "outputId": "cd1fc80b-a16d-4dfd-d29b-05ca56581b81"
      },
      "outputs": [
        {
          "data": {
            "text/plain": [
              "Text(0.5, 1.0, 'Confusion matrix for Normalized Spectrum Kernel SVM')"
            ]
          },
          "execution_count": 21,
          "metadata": {},
          "output_type": "execute_result"
        },
        {
          "data": {
            "image/png": "[encoded data removed]",
            "text/plain": [
              "<Figure size 800x550 with 2 Axes>"
            ]
          },
          "metadata": {},
          "output_type": "display_data"
        }
      ],
      "source": [
        "svc = SVC(C=0.001,kernel='precomputed',max_iter=1000)\n",
        "svc.fit(X_train_norm,y_train_norm.values.ravel())\n",
        "y_pred = svc.predict(X_test_norm)\n",
        "confusion_matrix_norm = confusion_matrix(y_test_norm, y_pred)\n",
        "\n",
        "sns.heatmap(confusion_matrix_norm, annot=True, fmt='d', cmap='Blues')\n",
        "plt.xlabel('Predicted label', size=15)\n",
        "plt.ylabel('True label', size=15)\n",
        "plt.title('Confusion matrix for Normalized Spectrum Kernel SVM', size=15)"
      ]
    },
    {
      "cell_type": "markdown",
      "metadata": {
        "id": "EmhV9MpUdk_F"
      },
      "source": [
        "## Support vector regression"
      ]
    },
    {
      "cell_type": "markdown",
      "metadata": {
        "id": "fsd_po1gdk_F"
      },
      "source": [
        "SVMs can also be adapted to be used for regression problems, using a so-called $\\epsilon$-_insensitive error function_, which returns a zero error if the absolute difference between the prediction and target is less than $\\epsilon$, with $\\epsilon > 0$. If we note predictions for instance $i$ as $y_i^*$, we can write the error functions as follows:\n",
        "\\begin{align}\n",
        "E_\\epsilon(y_i - y_i^*) &= 0, \\quad \\text{if} \\quad |y_i - y_i^*| < \\epsilon, \\\\\n",
        "E_\\epsilon(y_i - y_i^*) &=  |y_i - y_i^*| - \\epsilon, \\quad \\text{otherwise}.\n",
        "\\end{align}"
      ]
    },
    {
      "cell_type": "markdown",
      "metadata": {
        "id": "TnkLc4L2dk_F"
      },
      "source": [
        "As we now need two kinds of slack variables (why is that?), the mathematical optimization scheme now looks as follows:"
      ]
    },
    {
      "cell_type": "markdown",
      "metadata": {
        "id": "dRqVtLP9dk_G"
      },
      "source": [
        "\\begin{equation}\n",
        "    \\text{arg min}_{a_i,a_i^*} \\{ \\epsilon\\sum_{i=1}^n (a_i+a_i^*) -  \\frac{1}{2}\\sum_{i=1}^n \\sum_{k=1}^n (a_i-a_i^*) (a_k-a_k^*) K + \\sum_{i=1}^n (a_i - a_i^*)y_i \\} ,\n",
        "\\end{equation}\n",
        "\n",
        "subject to:\n",
        "\\begin{align}\n",
        "    0 &\\leq a_i, \\\\\n",
        "    a_i^* &\\leq C, \\\\\n",
        "    \\sum_{i=1}^n (a_i - a_i^*) &= 0, \\\\\n",
        "    a_ia_i^* &= 0, \\qquad \\forall i = 1, ..., n.   \n",
        "\\end{align}"
      ]
    },
    {
      "cell_type": "markdown",
      "metadata": {
        "id": "6zSPmLbldk_G"
      },
      "source": [
        "Alternative formulations of SVMs are also possible. One of them are called $\\nu$-SVMs, where the amount of support vectors $\\nu$ are controlled. Those interested can have a look [here](http://scikit-learn.org/stable/modules/generated/sklearn.svm.NuSVR.html#sklearn.svm.NuSVR)."
      ]
    },
    {
      "cell_type": "markdown",
      "metadata": {
        "id": "Q1uM9N6-dk_G"
      },
      "source": [
        "<div class=\"alert alert-success\">\n",
        "<h1>EXERCISE 9.3 (Optional)</h2>\n",
        "<p><b>\n",
        "We will have a second look at the `Concrete Compressive Strength` dataset. We are going to apply a [support vector regression model](http://scikit-learn.org/stable/modules/generated/sklearn.svm.SVR.html) to the dataset.\n",
        "\n",
        "a) Which hyperparameters do you have in this setting? How would you optimize the model?\n",
        "\n",
        "b) Fit a support vector regression model to the data. Start with the rbf kernel. Evaluate your performance on a 30% held-out test set in terms of the mean squared error (MSE). Can you do better than kernel ridge regression? If the training takes too long, try to use a subsample of the data.\n",
        "</b>\n",
        "</div>"
      ]
    },
    {
      "cell_type": "code",
      "execution_count": null,
      "metadata": {
        "id": "_UC0c-QGdk_G"
      },
      "outputs": [],
      "source": [
        "urllib.request.urlretrieve(\"https://raw.githubusercontent.com/BioML-UGent/MLLS/main/07_kernels/concreteComprStrength.txt\", \"concreteComprStrength.txt\")\n",
        "\n",
        "df = pd.read_table('concreteComprStrength.txt', delim_whitespace=True, header=0, index_col=None)\n",
        "df = df.sample(frac=1)\n",
        "features = ['cement', 'blastFurnaceSlag', 'flyAsh', 'water', 'superelastizer', 'coarseAggregate', 'fineAggregate', 'age']\n",
        "target = ['compressiveStrength']\n",
        "\n",
        "X_train, X_test, y_train, y_test = train_test_split(df.loc[:,features], df.loc[:,target],\n",
        "                                                     test_size=0.50, random_state=85)\n",
        "scaler = StandardScaler()\n",
        "scaler.fit(X_train)\n",
        "X_train_stand = pd.DataFrame(scaler.transform(X_train), columns=features)\n",
        "X_test_stand = pd.DataFrame(scaler.transform(X_test), columns=features)\n"
      ]
    },
    {
      "cell_type": "code",
      "execution_count": null,
      "metadata": {
        "id": "oMbitwB9dk_G",
        "outputId": "17fe2f93-c3b2-41c9-bcb9-68fd43443cc3"
      },
      "outputs": [
        {
          "name": "stdout",
          "output_type": "stream",
          "text": [
            "Mean squared error SVR polynomial kernel: 110.55070029125143\n",
            "MSE Kernel Ridge Regression using polynomial kernel: 31.36539126\n",
            "Mean squared error SVR rbf kernel: 37.16447844887724\n",
            "MSE Kernel Ridge Regression using rbf kernel: 51.1696193149\n"
          ]
        }
      ],
      "source": [
        "svr_poly = RandomizedSearchCV(SVR(kernel='poly'),\n",
        "                               param_distributions={\"C\": np.logspace(-3,3,10),\n",
        "                                                                        \"degree\": [2,3,4,5,6,7,8,9,10],\n",
        "                                                                          \"epsilon\": np.logspace(-2, 2, 10)},\n",
        "                                                                          n_iter=300)\n",
        "svr_rbf = RandomizedSearchCV(SVR(kernel='rbf'),\n",
        "                             param_distributions={\"C\": np.logspace(-3,3,10),\n",
        "                                                                   \"gamma\": np.logspace(-2, 2, 10),\n",
        "                                                                     \"epsilon\": np.logspace(-2, 2, 10)},\n",
        "                                                                      n_iter=100)\n",
        "svr_poly.fit(X_train_stand[features],y_train.values.ravel())\n",
        "svr_rbf.fit(X_train_stand[features],y_train.values.ravel())\n",
        "y_pred_poly = svr_poly.predict(X_test_stand[features])\n",
        "y_pred_rbf = svr_rbf.predict(X_test_stand[features])\n",
        "mse_poly = mean_squared_error(y_test,y_pred_poly)\n",
        "mse_rbf = mean_squared_error(y_test,y_pred_rbf)\n",
        "\n",
        "print('Mean squared error SVR polynomial kernel: ' + str(mse_poly))\n",
        "print('MSE Kernel Ridge Regression using polynomial kernel: 31.36539126')\n",
        "print('Mean squared error SVR rbf kernel: ' + str(mse_rbf))\n",
        "print('MSE Kernel Ridge Regression using rbf kernel: 51.1696193149')"
      ]
    },
    {
      "cell_type": "code",
      "execution_count": null,
      "metadata": {
        "id": "otoYKof7dk_G"
      },
      "outputs": [],
      "source": []
    }
  ],
  "metadata": {
    "kernelspec": {
      "display_name": "Python 3.9.1 ('predmod')",
      "language": "python",
      "name": "python3"
    },
    "language_info": {
      "codemirror_mode": {
        "name": "ipython",
        "version": 3
      },
      "file_extension": ".py",
      "mimetype": "text/x-python",
      "name": "python",
      "nbconvert_exporter": "python",
      "pygments_lexer": "ipython3",
      "version": "3.11.5"
    },
    "vscode": {
      "interpreter": {
        "hash": "79f7229f32224f2aa3b7ff71071c711311f5fb22ad26e5b83f3cb875eb6ce551"
      }
    },
    "colab": {
      "provenance": []
    }
  },
  "nbformat": 4,
  "nbformat_minor": 0
}